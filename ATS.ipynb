{
  "nbformat": 4,
  "nbformat_minor": 0,
  "metadata": {
    "colab": {
      "name": "ATS.ipynb",
      "provenance": [],
      "authorship_tag": "ABX9TyN8YRI09YU22dhAGWGj9QRM",
      "include_colab_link": true
    },
    "kernelspec": {
      "name": "python3",
      "display_name": "Python 3"
    }
  },
  "cells": [
    {
      "cell_type": "markdown",
      "metadata": {
        "id": "view-in-github",
        "colab_type": "text"
      },
      "source": [
        "<a href=\"https://colab.research.google.com/github/tinetor/Resume-screening/blob/main/ATS.ipynb\" target=\"_parent\"><img src=\"https://colab.research.google.com/assets/colab-badge.svg\" alt=\"Open In Colab\"/></a>"
      ]
    },
    {
      "cell_type": "markdown",
      "metadata": {
        "id": "jGcVQ440f6_N"
      },
      "source": [
        "# Functions"
      ]
    },
    {
      "cell_type": "code",
      "metadata": {
        "colab": {
          "base_uri": "https://localhost:8080/"
        },
        "id": "u436oF-ksVg9",
        "outputId": "98e40fee-9e55-44b2-9d77-18fed193d92b"
      },
      "source": [
        "\r\n",
        "import re\r\n",
        "import nltk\r\n",
        "nltk.download('stopwords')\r\n",
        "from nltk.corpus import stopwords\r\n",
        "from nltk.stem.porter import PorterStemmer\r\n",
        "def clean_text(x):  \r\n",
        "  corpus = []\r\n",
        "  for i in range(0, len(x)):\r\n",
        "    review = re.sub('[^a-zA-Z]', ' ', x[i])\r\n",
        "    review = review.lower()\r\n",
        "    review = review.split()\r\n",
        "    ps = PorterStemmer()\r\n",
        "    all_stopwords = stopwords.words('english')\r\n",
        "    all_stopwords.remove('not')\r\n",
        "    review = [ps.stem(word) for word in review if not word in set(all_stopwords)]\r\n",
        "    review = ' '.join(review)\r\n",
        "    corpus.append(review)\r\n",
        "  return corpus\r\n",
        "def clean_text_(x):  \r\n",
        "  corpus = []\r\n",
        " \r\n",
        "  review = re.sub('[^a-zA-Z]', ' ', x)\r\n",
        "  review = review.lower()\r\n",
        "  review = review.split()\r\n",
        "  ps = PorterStemmer()\r\n",
        "  all_stopwords = stopwords.words('english')\r\n",
        "  all_stopwords.remove('not')\r\n",
        "  review = [ps.stem(word) for word in review if not word in set(all_stopwords)]\r\n",
        "  review = ' '.join(review)\r\n",
        "  corpus.append(review)\r\n",
        "  return corpus "
      ],
      "execution_count": 1,
      "outputs": [
        {
          "output_type": "stream",
          "text": [
            "[nltk_data] Downloading package stopwords to /root/nltk_data...\n",
            "[nltk_data]   Unzipping corpora/stopwords.zip.\n"
          ],
          "name": "stdout"
        }
      ]
    },
    {
      "cell_type": "markdown",
      "metadata": {
        "id": "9PdihMcgfxvd"
      },
      "source": [
        ""
      ]
    },
    {
      "cell_type": "code",
      "metadata": {
        "id": "hG7qFWQRsfYk",
        "colab": {
          "base_uri": "https://localhost:8080/"
        },
        "outputId": "fa4172c8-8e2c-4c92-bbfb-a3882bb0b2c4"
      },
      "source": [
        "from sklearn.feature_extraction.text import CountVectorizer\r\n",
        "from sklearn.feature_extraction.text import TfidfVectorizer\r\n",
        "!pip install -U sentence-transformers\r\n",
        "from sentence_transformers import SentenceTransformer\r\n",
        "model = SentenceTransformer('distilbert-base-nli-stsb-mean-tokens')\r\n",
        "\r\n",
        "def bow(corpus):\r\n",
        "    cv = CountVectorizer()\r\n",
        "    vectors = cv.fit_transform(corpus).toarray()\r\n",
        "    job_des=vectors[0]\r\n",
        "    cv_=vectors[1]\r\n",
        "    return job_des,cv_\r\n",
        "def tf_df(corpus):\r\n",
        "    cv = TfidfVectorizer()    \r\n",
        "    vectors = cv.fit_transform(corpus).toarray()\r\n",
        "    job_des_tf=vectors[0]\r\n",
        "    cv_tf=vectors[1]\r\n",
        "    return job_des_tf,cv_tf\r\n",
        "def bert_(corpus):\r\n",
        "    vectors= model.encode(corpus,convert_to_numpy=True)\r\n",
        "    job_des=vectors[0]\r\n",
        "    cv_=vectors[1]\r\n",
        "    return job_des,cv_\r\n",
        "    \r\n"
      ],
      "execution_count": 2,
      "outputs": [
        {
          "output_type": "stream",
          "text": [
            "Collecting sentence-transformers\n",
            "\u001b[?25l  Downloading https://files.pythonhosted.org/packages/22/9a/62beeb5501b70ab48b9e5bb92de290f00a661a1caa075c4aae56d452aaa0/sentence-transformers-0.4.0.tar.gz (65kB)\n",
            "\u001b[K     |████████████████████████████████| 71kB 5.6MB/s \n",
            "\u001b[?25hCollecting transformers<5.0.0,>=3.1.0\n",
            "\u001b[?25l  Downloading https://files.pythonhosted.org/packages/50/0c/7d5950fcd80b029be0a8891727ba21e0cd27692c407c51261c3c921f6da3/transformers-4.1.1-py3-none-any.whl (1.5MB)\n",
            "\u001b[K     |████████████████████████████████| 1.5MB 18.8MB/s \n",
            "\u001b[?25hRequirement already satisfied, skipping upgrade: tqdm in /usr/local/lib/python3.6/dist-packages (from sentence-transformers) (4.41.1)\n",
            "Requirement already satisfied, skipping upgrade: torch>=1.6.0 in /usr/local/lib/python3.6/dist-packages (from sentence-transformers) (1.7.0+cu101)\n",
            "Requirement already satisfied, skipping upgrade: numpy in /usr/local/lib/python3.6/dist-packages (from sentence-transformers) (1.19.4)\n",
            "Requirement already satisfied, skipping upgrade: scikit-learn in /usr/local/lib/python3.6/dist-packages (from sentence-transformers) (0.22.2.post1)\n",
            "Requirement already satisfied, skipping upgrade: scipy in /usr/local/lib/python3.6/dist-packages (from sentence-transformers) (1.4.1)\n",
            "Requirement already satisfied, skipping upgrade: nltk in /usr/local/lib/python3.6/dist-packages (from sentence-transformers) (3.2.5)\n",
            "Collecting sentencepiece\n",
            "\u001b[?25l  Downloading https://files.pythonhosted.org/packages/e5/2d/6d4ca4bef9a67070fa1cac508606328329152b1df10bdf31fb6e4e727894/sentencepiece-0.1.94-cp36-cp36m-manylinux2014_x86_64.whl (1.1MB)\n",
            "\u001b[K     |████████████████████████████████| 1.1MB 38.8MB/s \n",
            "\u001b[?25hRequirement already satisfied, skipping upgrade: filelock in /usr/local/lib/python3.6/dist-packages (from transformers<5.0.0,>=3.1.0->sentence-transformers) (3.0.12)\n",
            "Requirement already satisfied, skipping upgrade: packaging in /usr/local/lib/python3.6/dist-packages (from transformers<5.0.0,>=3.1.0->sentence-transformers) (20.8)\n",
            "Collecting tokenizers==0.9.4\n",
            "\u001b[?25l  Downloading https://files.pythonhosted.org/packages/0f/1c/e789a8b12e28be5bc1ce2156cf87cb522b379be9cadc7ad8091a4cc107c4/tokenizers-0.9.4-cp36-cp36m-manylinux2010_x86_64.whl (2.9MB)\n",
            "\u001b[K     |████████████████████████████████| 2.9MB 52.0MB/s \n",
            "\u001b[?25hRequirement already satisfied, skipping upgrade: dataclasses; python_version < \"3.7\" in /usr/local/lib/python3.6/dist-packages (from transformers<5.0.0,>=3.1.0->sentence-transformers) (0.8)\n",
            "Requirement already satisfied, skipping upgrade: regex!=2019.12.17 in /usr/local/lib/python3.6/dist-packages (from transformers<5.0.0,>=3.1.0->sentence-transformers) (2019.12.20)\n",
            "Collecting sacremoses\n",
            "\u001b[?25l  Downloading https://files.pythonhosted.org/packages/7d/34/09d19aff26edcc8eb2a01bed8e98f13a1537005d31e95233fd48216eed10/sacremoses-0.0.43.tar.gz (883kB)\n",
            "\u001b[K     |████████████████████████████████| 890kB 38.6MB/s \n",
            "\u001b[?25hRequirement already satisfied, skipping upgrade: requests in /usr/local/lib/python3.6/dist-packages (from transformers<5.0.0,>=3.1.0->sentence-transformers) (2.23.0)\n",
            "Requirement already satisfied, skipping upgrade: typing-extensions in /usr/local/lib/python3.6/dist-packages (from torch>=1.6.0->sentence-transformers) (3.7.4.3)\n",
            "Requirement already satisfied, skipping upgrade: future in /usr/local/lib/python3.6/dist-packages (from torch>=1.6.0->sentence-transformers) (0.16.0)\n",
            "Requirement already satisfied, skipping upgrade: joblib>=0.11 in /usr/local/lib/python3.6/dist-packages (from scikit-learn->sentence-transformers) (1.0.0)\n",
            "Requirement already satisfied, skipping upgrade: six in /usr/local/lib/python3.6/dist-packages (from nltk->sentence-transformers) (1.15.0)\n",
            "Requirement already satisfied, skipping upgrade: pyparsing>=2.0.2 in /usr/local/lib/python3.6/dist-packages (from packaging->transformers<5.0.0,>=3.1.0->sentence-transformers) (2.4.7)\n",
            "Requirement already satisfied, skipping upgrade: click in /usr/local/lib/python3.6/dist-packages (from sacremoses->transformers<5.0.0,>=3.1.0->sentence-transformers) (7.1.2)\n",
            "Requirement already satisfied, skipping upgrade: chardet<4,>=3.0.2 in /usr/local/lib/python3.6/dist-packages (from requests->transformers<5.0.0,>=3.1.0->sentence-transformers) (3.0.4)\n",
            "Requirement already satisfied, skipping upgrade: idna<3,>=2.5 in /usr/local/lib/python3.6/dist-packages (from requests->transformers<5.0.0,>=3.1.0->sentence-transformers) (2.10)\n",
            "Requirement already satisfied, skipping upgrade: urllib3!=1.25.0,!=1.25.1,<1.26,>=1.21.1 in /usr/local/lib/python3.6/dist-packages (from requests->transformers<5.0.0,>=3.1.0->sentence-transformers) (1.24.3)\n",
            "Requirement already satisfied, skipping upgrade: certifi>=2017.4.17 in /usr/local/lib/python3.6/dist-packages (from requests->transformers<5.0.0,>=3.1.0->sentence-transformers) (2020.12.5)\n",
            "Building wheels for collected packages: sentence-transformers, sacremoses\n",
            "  Building wheel for sentence-transformers (setup.py) ... \u001b[?25l\u001b[?25hdone\n",
            "  Created wheel for sentence-transformers: filename=sentence_transformers-0.4.0-cp36-none-any.whl size=102655 sha256=ae4da3a9cafd6620f98add55a35d56d922c998a8ad0415f55216a1e87e349704\n",
            "  Stored in directory: /root/.cache/pip/wheels/ff/76/65/50258d8b7930e909ea2f5bd006a23d520a16765af13ab45bb3\n",
            "  Building wheel for sacremoses (setup.py) ... \u001b[?25l\u001b[?25hdone\n",
            "  Created wheel for sacremoses: filename=sacremoses-0.0.43-cp36-none-any.whl size=893261 sha256=7ed4e3a35611309f9282ba34322791170925915029a4ae6ad28832a6e33e7f40\n",
            "  Stored in directory: /root/.cache/pip/wheels/29/3c/fd/7ce5c3f0666dab31a50123635e6fb5e19ceb42ce38d4e58f45\n",
            "Successfully built sentence-transformers sacremoses\n",
            "Installing collected packages: tokenizers, sacremoses, transformers, sentencepiece, sentence-transformers\n",
            "Successfully installed sacremoses-0.0.43 sentence-transformers-0.4.0 sentencepiece-0.1.94 tokenizers-0.9.4 transformers-4.1.1\n"
          ],
          "name": "stdout"
        },
        {
          "output_type": "stream",
          "text": [
            "100%|██████████| 245M/245M [00:04<00:00, 49.6MB/s]\n"
          ],
          "name": "stderr"
        }
      ]
    },
    {
      "cell_type": "code",
      "metadata": {
        "id": "az5ozQy4wXrD"
      },
      "source": [
        "import numpy as np\r\n",
        "import sklearn.metrics\r\n",
        "import scipy\r\n",
        "from sklearn.metrics import pairwise_distances\r\n",
        "from sklearn.metrics.pairwise import pairwise_kernels\r\n",
        "def distance(X,Y,C):\r\n",
        "  corpuss=[X,Y]\r\n",
        "  if C=='bow':\r\n",
        "    job_des,cv=bow(clean_text(corpuss))\r\n",
        "  if C=='tf_df':\r\n",
        "    job_des,cv=tf_df(clean_text(corpuss))\r\n",
        "  if C=='bert':\r\n",
        "    job_des,cv=bert_(clean_text(corpuss))\r\n",
        "  simi=sklearn.metrics.pairwise.cosine_similarity(job_des.reshape(1,-1), cv.reshape(1,-1))\r\n",
        "  #simi=scipy.spatial.distance.cdist(job_des.reshape(1,-1), cv.reshape(1,-1),'cosine')\r\n",
        "  return np.round(simi,2)"
      ],
      "execution_count": 3,
      "outputs": []
    },
    {
      "cell_type": "code",
      "metadata": {
        "id": "rBv6m8FgzfxY"
      },
      "source": [
        "X='analyze key financial data and advise senior management on strategic planning.'\r\n",
        "Y='Analyzing key financial data and advising senior management on strategic planning.'\r\n",
        "Z='Participated in senior management business development and strategy meetings by presenting financial analysis of the business environment.'\r\n",
        "H='Extracting contextual business intelligence from key datasets to advise on wider corporate strategy.'\r\n",
        "J='Analyzed key financial data to recommend and advise the senior management on the strategic planning.'\r\n",
        "K='The experience of being a Financial Analyst Strategist enabled me to develop the ability to analyze key financial data and stimulate the strategic planning of the decision making process.'\r\n",
        "U='Analysed operating and financial data; wrote reports based on analysis for management to make key strategic decisions.'\r\n",
        "A='Strong financial analysis skills and capacity to turn data into key strategic insights to support managerial decisions.'\r\n",
        "B='Provided senior management with modeled raw data. Advised on corporate strategy in reliance on these data sets. '"
      ],
      "execution_count": 36,
      "outputs": []
    },
    {
      "cell_type": "markdown",
      "metadata": {
        "id": "W1dbHQ5Vtu0-"
      },
      "source": [
        "Bag of Words, counts the number of times a word appear, doesnt consider the order."
      ]
    },
    {
      "cell_type": "code",
      "metadata": {
        "id": "E-XLVUweyZAF"
      },
      "source": [
        "sentences=[Y,Z,H,J,K,U,A,B]"
      ],
      "execution_count": 37,
      "outputs": []
    },
    {
      "cell_type": "markdown",
      "metadata": {
        "id": "fX3p5rJ2uk0n"
      },
      "source": [
        "Bag of Words"
      ]
    },
    {
      "cell_type": "code",
      "metadata": {
        "id": "u7w02ny6Zvw4"
      },
      "source": [
        "import pandas as pd"
      ],
      "execution_count": 38,
      "outputs": []
    },
    {
      "cell_type": "code",
      "metadata": {
        "id": "KqjxoPtrAn2g"
      },
      "source": [
        "bow_=[]\r\n",
        "for i in sentences:\r\n",
        "  score=distance(X,i,'bow')\r\n",
        "  bow_.append(score)"
      ],
      "execution_count": 39,
      "outputs": []
    },
    {
      "cell_type": "markdown",
      "metadata": {
        "id": "QNLFz0sk0UjH"
      },
      "source": [
        "Term-frequency times inverse document-frequency"
      ]
    },
    {
      "cell_type": "code",
      "metadata": {
        "id": "rKdCTpWyOMFX"
      },
      "source": [
        "tf_df_=[]\r\n",
        "for i in sentences:\r\n",
        "  score=distance(X,i,'tf_df')\r\n",
        "  tf_df_.append(score)"
      ],
      "execution_count": 40,
      "outputs": []
    },
    {
      "cell_type": "code",
      "metadata": {
        "colab": {
          "base_uri": "https://localhost:8080/"
        },
        "id": "0Ky7OYO-Q_jc",
        "outputId": "a247b034-6d8c-4f82-f80e-4d0efc22af43"
      },
      "source": [
        "tf_df_"
      ],
      "execution_count": 41,
      "outputs": [
        {
          "output_type": "execute_result",
          "data": {
            "text/plain": [
              "[array([[1.]]),\n",
              " array([[0.16]]),\n",
              " array([[0.12]]),\n",
              " array([[0.91]]),\n",
              " array([[0.38]]),\n",
              " array([[0.31]]),\n",
              " array([[0.23]]),\n",
              " array([[0.29]])]"
            ]
          },
          "metadata": {
            "tags": []
          },
          "execution_count": 41
        }
      ]
    },
    {
      "cell_type": "markdown",
      "metadata": {
        "id": "_nkR2CnCSYd0"
      },
      "source": [
        "Bert"
      ]
    },
    {
      "cell_type": "code",
      "metadata": {
        "id": "W8FLtjU-UQGw"
      },
      "source": [
        "bert__=[]\r\n",
        "for i in sentences:\r\n",
        "  score=distance(X,i,'bert')\r\n",
        "  bert__.append(score)"
      ],
      "execution_count": 42,
      "outputs": []
    },
    {
      "cell_type": "code",
      "metadata": {
        "id": "IwzWelWFYc1A"
      },
      "source": [
        "results=pd.DataFrame(sentences)\r\n",
        "results['Bag of Words']=bow_\r\n",
        "results['Bag of Words'] = results['Bag of Words'].str[0].str[0]"
      ],
      "execution_count": 43,
      "outputs": []
    },
    {
      "cell_type": "code",
      "metadata": {
        "id": "sS55kGcLeGEZ"
      },
      "source": [
        "results['tf_df']=tf_df_\r\n",
        "results['tf_df']=results['tf_df'].str[0].str[0]"
      ],
      "execution_count": 44,
      "outputs": []
    },
    {
      "cell_type": "code",
      "metadata": {
        "id": "QQ-TtToyfcJJ"
      },
      "source": [
        "results['Bert']=bert__\r\n",
        "results['Bert']=results['Bert'].str[0].str[0]"
      ],
      "execution_count": 45,
      "outputs": []
    },
    {
      "cell_type": "code",
      "metadata": {
        "colab": {
          "base_uri": "https://localhost:8080/"
        },
        "id": "AZTHnegog2Ne",
        "outputId": "afb08be2-37d7-4b4c-b073-749b1e6fea6f"
      },
      "source": [
        "pd.set_option('display.max_colwidth', -1)"
      ],
      "execution_count": 46,
      "outputs": [
        {
          "output_type": "stream",
          "text": [
            "/usr/local/lib/python3.6/dist-packages/ipykernel_launcher.py:1: FutureWarning: Passing a negative integer is deprecated in version 1.0 and will not be supported in future version. Instead, use None to not limit the column width.\n",
            "  \"\"\"Entry point for launching an IPython kernel.\n"
          ],
          "name": "stderr"
        }
      ]
    },
    {
      "cell_type": "code",
      "metadata": {
        "id": "ZY2buLcjhiK2"
      },
      "source": [
        "results.columns=['analyze key financial data and advise senior management on strategic planning.', 'Bag of Words', 'tf_idf', 'Bert']"
      ],
      "execution_count": 47,
      "outputs": []
    },
    {
      "cell_type": "markdown",
      "metadata": {
        "id": "SYJyQoTsfuN1"
      },
      "source": [
        "# Results"
      ]
    },
    {
      "cell_type": "code",
      "metadata": {
        "colab": {
          "base_uri": "https://localhost:8080/",
          "height": 284
        },
        "id": "Cg9vJ6V2a_EU",
        "outputId": "be784589-6ded-452f-cda7-0c026ecb872f"
      },
      "source": [
        "results"
      ],
      "execution_count": 48,
      "outputs": [
        {
          "output_type": "execute_result",
          "data": {
            "text/html": [
              "<div>\n",
              "<style scoped>\n",
              "    .dataframe tbody tr th:only-of-type {\n",
              "        vertical-align: middle;\n",
              "    }\n",
              "\n",
              "    .dataframe tbody tr th {\n",
              "        vertical-align: top;\n",
              "    }\n",
              "\n",
              "    .dataframe thead th {\n",
              "        text-align: right;\n",
              "    }\n",
              "</style>\n",
              "<table border=\"1\" class=\"dataframe\">\n",
              "  <thead>\n",
              "    <tr style=\"text-align: right;\">\n",
              "      <th></th>\n",
              "      <th>analyze key financial data and advise senior management on strategic planning.</th>\n",
              "      <th>Bag of Words</th>\n",
              "      <th>tf_idf</th>\n",
              "      <th>Bert</th>\n",
              "    </tr>\n",
              "  </thead>\n",
              "  <tbody>\n",
              "    <tr>\n",
              "      <th>0</th>\n",
              "      <td>Analyzing key financial data and advising senior management on strategic planning.</td>\n",
              "      <td>1.00</td>\n",
              "      <td>1.00</td>\n",
              "      <td>1.00</td>\n",
              "    </tr>\n",
              "    <tr>\n",
              "      <th>1</th>\n",
              "      <td>Participated in senior management business development and strategy meetings by presenting financial analysis of the business environment.</td>\n",
              "      <td>0.27</td>\n",
              "      <td>0.16</td>\n",
              "      <td>0.69</td>\n",
              "    </tr>\n",
              "    <tr>\n",
              "      <th>2</th>\n",
              "      <td>Extracting contextual business intelligence from key datasets to advise on wider corporate strategy.</td>\n",
              "      <td>0.21</td>\n",
              "      <td>0.12</td>\n",
              "      <td>0.57</td>\n",
              "    </tr>\n",
              "    <tr>\n",
              "      <th>3</th>\n",
              "      <td>Analyzed key financial data to recommend and advise the senior management on the strategic planning.</td>\n",
              "      <td>0.95</td>\n",
              "      <td>0.91</td>\n",
              "      <td>0.91</td>\n",
              "    </tr>\n",
              "    <tr>\n",
              "      <th>4</th>\n",
              "      <td>The experience of being a Financial Analyst Strategist enabled me to develop the ability to analyze key financial data and stimulate the strategic planning of the decision making process.</td>\n",
              "      <td>0.54</td>\n",
              "      <td>0.38</td>\n",
              "      <td>0.76</td>\n",
              "    </tr>\n",
              "    <tr>\n",
              "      <th>5</th>\n",
              "      <td>Analysed operating and financial data; wrote reports based on analysis for management to make key strategic decisions.</td>\n",
              "      <td>0.46</td>\n",
              "      <td>0.31</td>\n",
              "      <td>0.77</td>\n",
              "    </tr>\n",
              "    <tr>\n",
              "      <th>6</th>\n",
              "      <td>Strong financial analysis skills and capacity to turn data into key strategic insights to support managerial decisions.</td>\n",
              "      <td>0.37</td>\n",
              "      <td>0.23</td>\n",
              "      <td>0.66</td>\n",
              "    </tr>\n",
              "    <tr>\n",
              "      <th>7</th>\n",
              "      <td>Provided senior management with modeled raw data. Advised on corporate strategy in reliance on these data sets.</td>\n",
              "      <td>0.45</td>\n",
              "      <td>0.29</td>\n",
              "      <td>0.58</td>\n",
              "    </tr>\n",
              "  </tbody>\n",
              "</table>\n",
              "</div>"
            ],
            "text/plain": [
              "                                                                                                                analyze key financial data and advise senior management on strategic planning.  ...  Bert\n",
              "0  Analyzing key financial data and advising senior management on strategic planning.                                                                                                           ...  1.00\n",
              "1  Participated in senior management business development and strategy meetings by presenting financial analysis of the business environment.                                                   ...  0.69\n",
              "2  Extracting contextual business intelligence from key datasets to advise on wider corporate strategy.                                                                                         ...  0.57\n",
              "3  Analyzed key financial data to recommend and advise the senior management on the strategic planning.                                                                                         ...  0.91\n",
              "4  The experience of being a Financial Analyst Strategist enabled me to develop the ability to analyze key financial data and stimulate the strategic planning of the decision making process.  ...  0.76\n",
              "5  Analysed operating and financial data; wrote reports based on analysis for management to make key strategic decisions.                                                                       ...  0.77\n",
              "6  Strong financial analysis skills and capacity to turn data into key strategic insights to support managerial decisions.                                                                      ...  0.66\n",
              "7  Provided senior management with modeled raw data. Advised on corporate strategy in reliance on these data sets.                                                                              ...  0.58\n",
              "\n",
              "[8 rows x 4 columns]"
            ]
          },
          "metadata": {
            "tags": []
          },
          "execution_count": 48
        }
      ]
    },
    {
      "cell_type": "code",
      "metadata": {
        "id": "7T3PgMxXt40L"
      },
      "source": [
        "D=clean_text_(X)\r\n",
        "cleaned=results"
      ],
      "execution_count": 49,
      "outputs": []
    },
    {
      "cell_type": "code",
      "metadata": {
        "id": "eby0o8ITvdfB"
      },
      "source": [
        "cleaned.columns=[D[0],'Bag of Words', 'tf_idf', 'Bert']\r\n",
        "cleaned.iloc[:,0]=cleaned.iloc[:,0].apply(clean_text_).str[0]"
      ],
      "execution_count": 50,
      "outputs": []
    },
    {
      "cell_type": "code",
      "metadata": {
        "colab": {
          "base_uri": "https://localhost:8080/",
          "height": 284
        },
        "id": "zk0pWYE2vnBe",
        "outputId": "8b411143-fe38-43bc-ed39-ba2de08c8790"
      },
      "source": [
        "cleaned"
      ],
      "execution_count": 51,
      "outputs": [
        {
          "output_type": "execute_result",
          "data": {
            "text/html": [
              "<div>\n",
              "<style scoped>\n",
              "    .dataframe tbody tr th:only-of-type {\n",
              "        vertical-align: middle;\n",
              "    }\n",
              "\n",
              "    .dataframe tbody tr th {\n",
              "        vertical-align: top;\n",
              "    }\n",
              "\n",
              "    .dataframe thead th {\n",
              "        text-align: right;\n",
              "    }\n",
              "</style>\n",
              "<table border=\"1\" class=\"dataframe\">\n",
              "  <thead>\n",
              "    <tr style=\"text-align: right;\">\n",
              "      <th></th>\n",
              "      <th>analyz key financi data advis senior manag strateg plan</th>\n",
              "      <th>Bag of Words</th>\n",
              "      <th>tf_idf</th>\n",
              "      <th>Bert</th>\n",
              "    </tr>\n",
              "  </thead>\n",
              "  <tbody>\n",
              "    <tr>\n",
              "      <th>0</th>\n",
              "      <td>analyz key financi data advis senior manag strateg plan</td>\n",
              "      <td>1.00</td>\n",
              "      <td>1.00</td>\n",
              "      <td>1.00</td>\n",
              "    </tr>\n",
              "    <tr>\n",
              "      <th>1</th>\n",
              "      <td>particip senior manag busi develop strategi meet present financi analysi busi environ</td>\n",
              "      <td>0.27</td>\n",
              "      <td>0.16</td>\n",
              "      <td>0.69</td>\n",
              "    </tr>\n",
              "    <tr>\n",
              "      <th>2</th>\n",
              "      <td>extract contextu busi intellig key dataset advis wider corpor strategi</td>\n",
              "      <td>0.21</td>\n",
              "      <td>0.12</td>\n",
              "      <td>0.57</td>\n",
              "    </tr>\n",
              "    <tr>\n",
              "      <th>3</th>\n",
              "      <td>analyz key financi data recommend advis senior manag strateg plan</td>\n",
              "      <td>0.95</td>\n",
              "      <td>0.91</td>\n",
              "      <td>0.91</td>\n",
              "    </tr>\n",
              "    <tr>\n",
              "      <th>4</th>\n",
              "      <td>experi financi analyst strategist enabl develop abil analyz key financi data stimul strateg plan decis make process</td>\n",
              "      <td>0.54</td>\n",
              "      <td>0.38</td>\n",
              "      <td>0.76</td>\n",
              "    </tr>\n",
              "    <tr>\n",
              "      <th>5</th>\n",
              "      <td>analys oper financi data wrote report base analysi manag make key strateg decis</td>\n",
              "      <td>0.46</td>\n",
              "      <td>0.31</td>\n",
              "      <td>0.77</td>\n",
              "    </tr>\n",
              "    <tr>\n",
              "      <th>6</th>\n",
              "      <td>strong financi analysi skill capac turn data key strateg insight support manageri decis</td>\n",
              "      <td>0.37</td>\n",
              "      <td>0.23</td>\n",
              "      <td>0.66</td>\n",
              "    </tr>\n",
              "    <tr>\n",
              "      <th>7</th>\n",
              "      <td>provid senior manag model raw data advis corpor strategi relianc data set</td>\n",
              "      <td>0.45</td>\n",
              "      <td>0.29</td>\n",
              "      <td>0.58</td>\n",
              "    </tr>\n",
              "  </tbody>\n",
              "</table>\n",
              "</div>"
            ],
            "text/plain": [
              "                                                               analyz key financi data advis senior manag strateg plan  ...  Bert\n",
              "0  analyz key financi data advis senior manag strateg plan                                                              ...  1.00\n",
              "1  particip senior manag busi develop strategi meet present financi analysi busi environ                                ...  0.69\n",
              "2  extract contextu busi intellig key dataset advis wider corpor strategi                                               ...  0.57\n",
              "3  analyz key financi data recommend advis senior manag strateg plan                                                    ...  0.91\n",
              "4  experi financi analyst strategist enabl develop abil analyz key financi data stimul strateg plan decis make process  ...  0.76\n",
              "5  analys oper financi data wrote report base analysi manag make key strateg decis                                      ...  0.77\n",
              "6  strong financi analysi skill capac turn data key strateg insight support manageri decis                              ...  0.66\n",
              "7  provid senior manag model raw data advis corpor strategi relianc data set                                            ...  0.58\n",
              "\n",
              "[8 rows x 4 columns]"
            ]
          },
          "metadata": {
            "tags": []
          },
          "execution_count": 51
        }
      ]
    }
  ]
}